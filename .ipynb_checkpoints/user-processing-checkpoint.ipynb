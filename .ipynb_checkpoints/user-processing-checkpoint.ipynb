{
 "cells": [
  {
   "cell_type": "code",
   "execution_count": 6,
   "id": "80cfca69-b4ba-4ee0-b8ae-7f4c8c2e75c7",
   "metadata": {},
   "outputs": [
    {
     "ename": "IndentationError",
     "evalue": "unindent does not match any outer indentation level (<tokenize>, line 9)",
     "output_type": "error",
     "traceback": [
      "\u001b[0;36m  File \u001b[0;32m<tokenize>:9\u001b[0;36m\u001b[0m\n\u001b[0;31m    listOfUsers = userFile.readlines()\u001b[0m\n\u001b[0m    ^\u001b[0m\n\u001b[0;31mIndentationError\u001b[0m\u001b[0;31m:\u001b[0m unindent does not match any outer indentation level\n"
     ]
    }
   ],
   "source": [
    "#open the user list file\n",
    "  \n",
    "\n",
    "        userFile = open(\"list-of-users.txt\", \"r\")\n",
    "\n",
    "    \n",
    "\n",
    "    #load the lines of the file into a list\n",
    "    listOfUsers = userFile.readlines()\n",
    "    print(\"\\nlist-of-users was read.\")\n",
    "\n",
    "    #ask the user to proceed\n",
    "    answer = input(\"\\nDo you want to print out the list of users? (Y or N)\")\n",
    "\n",
    "    if answer == \"Y\" or answer == \"y\":\n",
    "\n",
    "        for userline in listOfUsers:\n",
    "            print(\"\\n\", userline)\n",
    "\n",
    "    else:\n",
    "\n",
    "        print(\"\\nOk not printing, ending program.\")\n",
    "\n",
    "    print(\"\\nEnd of User Processing\\n\")\n",
    "\n",
    "\n",
    "\n",
    "\n"
   ]
  },
  {
   "cell_type": "code",
   "execution_count": null,
   "id": "1f59fbf1-c637-492e-82a5-a86036c26b5b",
   "metadata": {},
   "outputs": [],
   "source": []
  },
  {
   "cell_type": "code",
   "execution_count": null,
   "id": "12cd009c-ea81-48c2-9a08-61aa4390e1a5",
   "metadata": {},
   "outputs": [],
   "source": []
  }
 ],
 "metadata": {
  "kernelspec": {
   "display_name": "Python 3 (ipykernel)",
   "language": "python",
   "name": "python3"
  },
  "language_info": {
   "codemirror_mode": {
    "name": "ipython",
    "version": 3
   },
   "file_extension": ".py",
   "mimetype": "text/x-python",
   "name": "python",
   "nbconvert_exporter": "python",
   "pygments_lexer": "ipython3",
   "version": "3.9.6"
  }
 },
 "nbformat": 4,
 "nbformat_minor": 5
}
